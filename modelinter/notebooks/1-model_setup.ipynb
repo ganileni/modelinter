{
 "cells": [
  {
   "cell_type": "markdown",
   "metadata": {},
   "source": [
    "# Model setup\n",
    "\n",
    "here we set the model up and explain how it works"
   ]
  },
  {
   "cell_type": "markdown",
   "metadata": {},
   "source": [
    "imports and load data"
   ]
  },
  {
   "cell_type": "code",
   "execution_count": 1,
   "metadata": {
    "ExecuteTime": {
     "end_time": "2017-09-05T16:20:19.451637Z",
     "start_time": "2017-09-05T16:20:18.770637Z"
    }
   },
   "outputs": [
    {
     "name": "stderr",
     "output_type": "stream",
     "text": [
      "/home/orazio/.virtualenvs/model_interconnectedness_36/lib/python3.6/site-packages/statsmodels/compat/pandas.py:56: FutureWarning: The pandas.core.datetools module is deprecated and will be removed in a future version. Please use the pandas.tseries module instead.\n",
      "  from pandas.core import datetools\n"
     ]
    }
   ],
   "source": [
    "# all of this is explained in notebook 0\n",
    "%run imports.py\n",
    "from modelinter.preprocessing.imports_load_data import read_csvs, extract_arrays\n",
    "raw_data = read_csvs()\n",
    "arrays = extract_arrays(raw_data)"
   ]
  },
  {
   "cell_type": "markdown",
   "metadata": {},
   "source": [
    "We'll simulate a portfolio of N stocks and N options. We'll model the price of stocks, and feed the output of this model to the model for options.\n",
    "\n",
    "## Stocks model\n",
    "\n",
    "The model for **stocks** is a linear regression of their returns against S&P500:\n",
    "\n",
    "$r_{it} = \\alpha_i + \\beta_i I_t + \\epsilon_{it} $.\n",
    "\n",
    "with:\n",
    "\n",
    "* $r_{it}$ - returns of stock $i$ at time $t$\n",
    "* $I_{t}$ - returns of the index $I$ (S&P500) at time $t$\n",
    "* $\\alpha_i$ - zero order coefficient for stock $i$\n",
    "* $\\beta_i$ - first-order coefficient for stock $i$\n",
    "* $\\epsilon_{it}$ - residuals of the regression for stock $i$ at time $t$\n",
    "\n",
    "We expect $\\alpha_{i}$ to be negligible for stocks, therefore we should be able to approximate:\n",
    "\n",
    "$r_{it} \\approx \\beta_i I_t $\n",
    "\n",
    "We'll call this the **A** model. A more accurate prediction would entail sampling from the distribution of these random variables:\n",
    "\n",
    "$r_{it} \\approx \\beta_i I_t + \\epsilon_{it} $\n",
    "\n",
    "where we assume that the $\\epsilon$ terms are normally distributed, centered on zero $E[\\epsilon_{it}] = 0$, and uncorrelated ($Cov[\\epsilon_{it}, \\epsilon_{jt}] = 0$ $\\forall i \\neq j $). We will call this the **B** model, and we'll evaluate it by estimating the standard deviation of the residuals of the regression, and sampling from a normal distribution with adequate parametrisation.\n",
    "\n",
    "Finally, an even better model, which we'll call the **C** model, would involve removing the assumption of uncorrelated residuals: $\\Sigma_{ij} \\equiv Cov[\\epsilon_{it}, \\epsilon_{jt}] \\neq 0$. We will estimate this model by evaluating the covariance matrix $\\Sigma_{ij}$ with the GLASSO algorithm.\n",
    "\n",
    "\n",
    "___\n",
    "\n",
    "#### extrapolating forward in time\n",
    "\n",
    "this model, being evaluated on daily returns, will predict daily returns. We want to understand what happens on timescales that are characteristic of the CCAR scenario (~4 years). In order to do so, we will have to chain daily predictions. Let's suppose that we want to predict the returns of stock at time $T = D \\Delta t$. We can write the returns on index $I$ at time $T$ as the sum of the returns on all days:\n",
    "\n",
    "$I_T = \\prod_t^D (1 + I_t) \\approx \\sum_t^D I_t$\n",
    "\n",
    "Mind that this formula works approximately for linear returns, while it's exact for log returns. Similarly for the stock:\n",
    "\n",
    "$r_T = \\prod_t^D (1 + r_t) \\approx \\sum_t^D r_t \\\\\n",
    "= \\sum_t^D (\\beta_i I_{t} + \\epsilon_{it}) = \\beta_i I_T + \\sum_t^D \\epsilon_{it}$\n",
    "\n",
    "This is important, because the rules for calculating uncertainty follow from it:\n",
    "\n",
    "$\\sigma(r_T) = \\sigma(\\sum_t^D \\epsilon_{it}) = \\sqrt{D} \\sigma(\\epsilon_i)$\n",
    "\n",
    "where we made the hypothesis that $\\epsilon_{it}$  is a stationary process, i.e. $\\epsilon_{it} = \\epsilon_{i}$, and that it follows a normal distribution.\n"
   ]
  },
  {
   "cell_type": "markdown",
   "metadata": {},
   "source": [
    "## Options model\n",
    "\n",
    "For the **options**, we'll consider one put option per stock, with moneyness ($S/K$) of 1.1, that ends in five years. We'll assume a risk free rate of return of 0.25%. The model will be the original black-scholes.\n",
    "\n",
    "$C(S_t, t) = N(d_1)S_t - N(d_2) Ke^{-r(T - t)} \\\\\n",
    "     d_1 = \\frac{1}{\\sigma\\sqrt{T - t}}\\left[\\ln\\left(\\frac{S_t}{K}\\right) + \\left(r + \\frac{\\sigma^2}{2}\\right)(T - t)\\right] \\\\\n",
    "     d_2 = d_1 - \\sigma\\sqrt{T - t}$\n",
    "\n",
    "with:\n",
    "* $N(\\cdot)$ is the cumulative distribution function of the standard normal distribution\n",
    "* $\\tau \\equiv T - t$ is the time to maturity (expressed in years), with $T$ the maturity date, and $t$ current time\n",
    "* $S$ is the spot price of the underlying asset\n",
    "* $K$ is the strike price\n",
    "* $r$ is the risk free rate (annual rate, expressed in terms of continuous compounding)\n",
    "* $\\sigma$ is the volatility of returns of the underlying asset\n",
    "\n",
    "and all values are intended to be calculated at time $t$.\n",
    "\n",
    "___\n",
    "\n",
    "We will model the volatility $\\sigma$ with a linear regression on the VIX index similar to the one for the stocks:\n",
    "\n",
    "$\\sigma_{it} = \\eta_i + \\theta_i J_t + \\delta_{it} $\n",
    "\n",
    "therefore we should have an **A** model like this:\n",
    "\n",
    "$\\sigma_{it} \\approx \\eta_i + \\theta_i J_t $,\n",
    "\n",
    "where $J_t$ is the VIX index. We will also define, in analogy with the stocks, an **B** model:\n",
    "\n",
    "$\\sigma_{it} \\approx \\eta_i + \\theta_i J_t + \\delta_{it}$,\n",
    "\n",
    "where we consider the $\\delta$ to be normally distributed with mean 0, and standard deviation measured from the residuals of the regression. Finally, we'll define a **C** model where $\\Sigma_{ij} \\equiv Cov[\\delta_{it}, \\delta_{jt}] \\neq 0$.\n",
    "\n",
    "---\n",
    "\n",
    "We won't use implied volatility $VI_t$ data directly to estimate the $\\theta_i$ and parametrize the model. We will instead assume that realized future volatility $\\sigma_{t+p}$ as a proxy for it, i.e. we assume:\n",
    "\n",
    "$VI_t \\propto \\sigma_{t+p}$.\n",
    "\n",
    "For this reason, we equivalently delayed  VIX by $p=-10$ days, following the result of preliminary analysis.\n",
    "\n",
    "___\n",
    "\n",
    "#### extrapolating forward in time\n",
    "\n",
    "The model for implied volatilities doesn't predict returns, but volatilities directly. The value for implied volatility at time $T$ cannot be expressed as a composition of changes along time, therefore the uncertainty for the predictions doesn't increase over time:\n",
    "\n",
    "$std(\\sigma_T) = std(\\delta_i)$\n",
    "\n",
    "and of course we made the implicit hypothesis the hypothesis that $\\delta_{it}$  is a stationary process, i.e. $\\delta_{it} = \\delta_{i}$, and that it follows a normal distribution."
   ]
  },
  {
   "cell_type": "markdown",
   "metadata": {},
   "source": [
    "let's define the functions that evaluate the model."
   ]
  },
  {
   "cell_type": "markdown",
   "metadata": {},
   "source": [
    "## Code review\n",
    "All the code is in the modelinter.pgm module. let's go through it."
   ]
  },
  {
   "cell_type": "code",
   "execution_count": 2,
   "metadata": {},
   "outputs": [],
   "source": [
    "from modelinter.models.pgm import \\\n",
    "    BasePgmParams, StocksPgmParams, \\\n",
    "    StocksPgm, StocksPgmA, \\\n",
    "    StocksPgmB, StocksPgmC, OptionsPgm"
   ]
  },
  {
   "cell_type": "markdown",
   "metadata": {},
   "source": [
    "the parameters of the PGM will be stored in an object of class `BasePgmParams`, that only has the logic for saving/loading the parameters and estimating GLASSO on the residuals"
   ]
  },
  {
   "cell_type": "code",
   "execution_count": 3,
   "metadata": {
    "ExecuteTime": {
     "end_time": "2017-09-05T16:20:22.007637Z",
     "start_time": "2017-09-05T16:20:21.782637Z"
    }
   },
   "outputs": [
    {
     "name": "stdout",
     "output_type": "stream",
     "text": [
      "In file: ../../modelinter/models/pgm.py\n",
      "\n",
      "\n",
      "class BasePgmParams():\n",
      "    \"\"\"base model for both stocks and options. It encodes\n",
      "    save/load functionality, and the logic for calculating lasso.\"\"\"\n",
      "\n",
      "    def save(self, name=''):\n",
      "        Pkl.save(self, Paths.SAVE_DIR.value + self.modelname + name + Paths.PKL_EXT.value)\n",
      "\n",
      "    def load(self, name=''):\n",
      "        selfload = Pkl.load(Paths.SAVE_DIR.value + self.modelname + name + Paths.PKL_EXT.value)\n",
      "        for attr in [_ for _ in selfload.__dir__() if not _.startswith('__')]:\n",
      "            setattr(self, attr, getattr(selfload, attr))\n",
      "\n",
      "    def estimate_glasso(self, alpha='cv', **kwargs):\n",
      "        if 'mode' not in kwargs:\n",
      "            kwargs['mode'] = 'cd'\n",
      "        # estimate covariance matrix with GLASSO\n",
      "        self.alpha = alpha\n",
      "        if alpha == 'cv':\n",
      "            self.glasso = GraphLassoCV(**kwargs)\n",
      "        else:\n",
      "            self.glasso = GraphLasso(alpha=alpha, **kwargs)\n",
      "        self.glasso.fit(self.residuals)\n",
      "        self.Sigma_ij = self.glasso.covariance_\n",
      "\n"
     ]
    }
   ],
   "source": [
    "view_code(BasePgmParams)"
   ]
  },
  {
   "cell_type": "markdown",
   "metadata": {},
   "source": [
    "The realization of a PGM parameters object for the stocks model is a `StocksPgmParams` object.  On initialization it estimates the parameters for the model from the regression, and then calculates GLASSO on the residuals."
   ]
  },
  {
   "cell_type": "code",
   "execution_count": 4,
   "metadata": {
    "scrolled": false
   },
   "outputs": [
    {
     "name": "stdout",
     "output_type": "stream",
     "text": [
      "In file: ../../modelinter/models/pgm.py\n",
      "\n",
      "\n",
      "class StocksPgmParams(BasePgmParams):\n",
      "    \"\"\"This class evaluates and contains the parameters for the stocks PGM.\"\"\"\n",
      "    modelname = '_stock_PGM_'\n",
      "\n",
      "    def __init__(self, dow_t, r_it, alpha='cv', glasso_args=dict()):\n",
      "        \"\"\"Evaluate all the parameters needed for stocks.\"\"\"\n",
      "        self.beta_i, drop_alpha, self.epsilon_i, drop_r2 = \\\n",
      "            regression_loop(dow_t, r_it)\n",
      "        # cap the betas at 3? (more than that and you get\n",
      "        # stocks that go to negative prices on a big shock)\n",
      "        # self.beta_i[self.beta_i>3] = 3\n",
      "        # calculate std of epsilon_i\n",
      "        self.sigma_epsilon_i = np.array([np.std(_) for _ in self.epsilon_i])\n",
      "        # save residuals in a numpy array for GLASSO\n",
      "        self.epsilon_i = np.vstack(self.epsilon_i).T\n",
      "        self.residuals = self.epsilon_i\n",
      "        # estimate GLASSO with CV\n",
      "        self.estimate_glasso(alpha=alpha, **glasso_args)\n",
      "        self.Sigma_ij = self.glasso.covariance_\n",
      "\n"
     ]
    }
   ],
   "source": [
    "view_code(StocksPgmParams)"
   ]
  },
  {
   "cell_type": "markdown",
   "metadata": {},
   "source": [
    "When predicting, we'll use a realization of the `StocksPgm` base class. This base class just contains the logic for initialization (it gets passed a `StocksPgmParams` when doing `__init__()`), and the part of the prediction logic that will be called by all subclasses."
   ]
  },
  {
   "cell_type": "code",
   "execution_count": 5,
   "metadata": {},
   "outputs": [
    {
     "name": "stdout",
     "output_type": "stream",
     "text": [
      "In file: ../../modelinter/models/pgm.py\n",
      "\n",
      "\n",
      "class StocksPgm:\n",
      "    \"\"\"This class takes as an input a StocksPgmParams object\n",
      "    and is the base for all the subclasses that make predictions.\"\"\"\n",
      "\n",
      "    def __init__(self, stocks_PGM_params):\n",
      "        self.params = stocks_PGM_params\n",
      "\n",
      "    # feed the index value and get the stocks returns\n",
      "    # note that the model is tuned on daily returns.\n",
      "    # if you want the variance for retuns over more than a day\n",
      "    # you need to scale the variance!\n",
      "    # returns are invariant instead\n",
      "    def predict(self, dow_t):\n",
      "        return dow_t * self.params.beta_i\n",
      "\n"
     ]
    }
   ],
   "source": [
    "view_code(StocksPgm)"
   ]
  },
  {
   "cell_type": "markdown",
   "metadata": {},
   "source": [
    "The actual realizations of `StocksPgm` are the three kinds of model A, B and C discussed both above and in the paper: `StocksPgmA`, `StocksPgmB` and `StocksPgmC`.\n",
    "\n",
    "`StocksPgmA` just takes the prediction method from the base class, and changes the signature a little:"
   ]
  },
  {
   "cell_type": "code",
   "execution_count": 6,
   "metadata": {},
   "outputs": [
    {
     "name": "stdout",
     "output_type": "stream",
     "text": [
      "In file: ../../modelinter/models/pgm.py\n",
      "\n",
      "\n",
      "class StocksPgmA(StocksPgm):\n",
      "    \"\"\"This class makes predictions for stocks in PGM A\"\"\"\n",
      "\n",
      "    # days, samples are needed in the signature to standardize interface\n",
      "    def predict(self, dow_t, days=1, samples=1):\n",
      "        return super().predict(dow_t)\n",
      "\n"
     ]
    }
   ],
   "source": [
    "view_code(StocksPgmA)"
   ]
  },
  {
   "cell_type": "markdown",
   "metadata": {},
   "source": [
    "`StocksPgmB` and `StocksPgmC`'s `predict()` methods instead take the base prediction and generate the residuals."
   ]
  },
  {
   "cell_type": "code",
   "execution_count": 7,
   "metadata": {
    "scrolled": true
   },
   "outputs": [
    {
     "name": "stdout",
     "output_type": "stream",
     "text": [
      "In file: ../../modelinter/models/pgm.py\n",
      "\n",
      "\n",
      "class StocksPgmB(StocksPgm):\n",
      "    \"\"\"This class makes predictions for stocks in PGM B\"\"\"\n",
      "\n",
      "    def predict(self, dow_t, days=1, samples=1):\n",
      "        res = super().predict(dow_t) \\\n",
      "              + np.random.normal(scale=np.sqrt(days) * self.params.sigma_epsilon_i,\n",
      "                                 size=(samples, self.params.sigma_epsilon_i.size))\n",
      "        # flatten output if only one sample was requested.\n",
      "        if samples == 1:\n",
      "            return res.flatten()\n",
      "        else:\n",
      "            return res\n",
      "\n",
      "In file: ../../modelinter/models/pgm.py\n",
      "\n",
      "\n",
      "class StocksPgmC(StocksPgm):\n",
      "    \"\"\"This class makes predictions for stocks in PGM C\"\"\"\n",
      "\n",
      "    def predict(self, dow_t, days=1, samples=1):\n",
      "        res = super().predict(dow_t) \\\n",
      "              + np.random.multivariate_normal(\n",
      "            mean=np.zeros(self.params.Sigma_ij.shape[0]),\n",
      "            cov=days * self.params.Sigma_ij,\n",
      "            size=samples)\n",
      "        # flatten output if only one sample was requested.\n",
      "        if samples == 1:\n",
      "            return res.flatten()\n",
      "        else:\n",
      "            return res\n",
      "\n"
     ]
    }
   ],
   "source": [
    "view_code(StocksPgmB); view_code(StocksPgmC)"
   ]
  },
  {
   "cell_type": "markdown",
   "metadata": {},
   "source": [
    "The options model is structured the same way, with\n",
    "\n",
    "* `BasePgmParams`\n",
    "    * `OptionsPgmParams`\n",
    "* `OptionsPgm`\n",
    "    * `optionsPgmA`\n",
    "    * `optionsPgmB`\n",
    "    * `optionsPgmC`\n",
    "    \n",
    "the logic in `OptionsPgm` is a bit more convoluted, though, because its `predict()` method contains the code to calculate options prices through the Black-Scholes formula, which is structured as two ugly nested loops. The logic for generating volatilities is instead found in the subclasses."
   ]
  },
  {
   "cell_type": "code",
   "execution_count": 9,
   "metadata": {},
   "outputs": [
    {
     "name": "stdout",
     "output_type": "stream",
     "text": [
      "In file: ../../modelinter/models/pgm.py\n",
      "\n",
      "\n",
      "class OptionsPgm():\n",
      "    \"\"\"This class takes as an input a options_PGM_params object\n",
      "    and is the base for all the subclasses that make predictions.\"\"\"\n",
      "\n",
      "    def __init__(self, options_PGM_params):\n",
      "        self.params = options_PGM_params\n",
      "\n",
      "    # feed the index value and get the option prices.\n",
      "    def predict(self, vix, r, strike_price, stocks_prices, tau_i, flag_i, moneyness_i, samples=1):\n",
      "        \"\"\"provides the  base logic for calculating a PGM prediction.\n",
      "        The only thing that changes between calculation of PGMS A,B and C\n",
      "        is the way you predict sigma_i, and we put that logic into\n",
      "        subclasses.\"\"\"\n",
      "        # eval daily volatility and ANNUALIZE\n",
      "        sigma_i = self.sigma_i(vix=vix, samples=samples) * Const.ANNUALIZE.value\n",
      "        # then predict all the options values:\n",
      "        options_prices = []\n",
      "        # optimization: If one wants multiple samples from models B or C\n",
      "        # it's much faster (~100 times) to draw all of them at the same time from\n",
      "        # numpy.random rather than calling the predict() method\n",
      "        # multiple times. This implies a loop over rows of sigma_i though.\n",
      "        flag_onesample = False\n",
      "        # this code checks if only 1 sample was requested. in this case we need\n",
      "        # to increase ndim of sigma_i, and then flatten at the end of the loop.\n",
      "        if sigma_i.ndim == 1:\n",
      "            sigma_i = np.array([sigma_i])\n",
      "            flag_onesample = True\n",
      "        elif sigma_i.shape[0] == 1:\n",
      "            flag_onesample = True\n",
      "        # multiple stocks samples can be fed to the function, but this\n",
      "        # requires a loop over S_i and strike_price, and also checking its dimensionality\n",
      "        # and increasing it if it's 1\n",
      "        if stocks_prices.ndim == 1:\n",
      "            stocks_prices = np.array([stocks_prices])\n",
      "            # at this point S_i and sigma_i should have the same number\n",
      "            # of rows, so that we have a sample of volatilities\n",
      "            # for each sample of stocks prices\n",
      "            if stocks_prices.shape[0] != sigma_i.shape[0]:\n",
      "                raise AssertionError('S_i should have nsamples rows')\n",
      "\n",
      "        # if K is not given, calculate it fom moneyness:\n",
      "        if strike_price is None:\n",
      "            strike_price = stocks_prices / moneyness_i\n",
      "        # if instead strike_price is given\n",
      "        else:\n",
      "            # there should be one strike per stock,\n",
      "            # so check dimensionality of strike_price as well\n",
      "            if strike_price.ndim == 1:\n",
      "                strike_price = np.array([strike_price])\n",
      "            # check that strike_price and S_i have the same dimensionality\n",
      "            if strike_price.shape != stocks_prices.shape:\n",
      "                raise AssertionError('strike_price.shape != S_i.shape')\n",
      "        # loop over rows of sigma_i\n",
      "        for SIGMA, STOCKS, STRIKES in zip(sigma_i, stocks_prices, strike_price):\n",
      "            options_prices_onesample = []\n",
      "            # loop over each option in the portfolio\n",
      "            for S, K, s, tau, f in zip(STOCKS, STRIKES, SIGMA, tau_i, flag_i):\n",
      "                options_prices_onesample.append(\n",
      "                    black_scholes(flag=f,\n",
      "                                  S=S,\n",
      "                                  K=K,\n",
      "                                  t=tau,\n",
      "                                  r=r,\n",
      "                                  sigma=s)\n",
      "                )\n",
      "            options_prices.append(options_prices_onesample)\n",
      "        # flatten output if only one sample was requested.\n",
      "        if flag_onesample: options_prices = np.array(options_prices).flatten()\n",
      "        return np.array(options_prices)\n",
      "\n",
      "    def sigma_i(self, vix):\n",
      "        return self.params.eta_i + vix * self.params.theta_i\n",
      "\n"
     ]
    }
   ],
   "source": [
    "view_code(OptionsPgm)"
   ]
  },
  {
   "cell_type": "markdown",
   "metadata": {},
   "source": [
    "## Test calculation\n",
    "Now let's test that they actually work:"
   ]
  },
  {
   "cell_type": "code",
   "execution_count": 15,
   "metadata": {},
   "outputs": [],
   "source": [
    "#DefaultSettings is just a namespace containing some settings for eval_PGM\n",
    "from modelinter.models.calculations import eval_PGM, DefaultSettings\n",
    "#we'll also need a couple of constants\n",
    "from modelinter.models.constants import Const\n",
    "import numpy as np"
   ]
  },
  {
   "cell_type": "code",
   "execution_count": 11,
   "metadata": {},
   "outputs": [
    {
     "name": "stdout",
     "output_type": "stream",
     "text": [
      "In file: ../../modelinter/models/calculations.py\n",
      "\n",
      "\n",
      "def eval_PGM(arrays, DefaultSettings):\n",
      "    \"\"\"evalutes parameters for all PGM models from data\"\"\"\n",
      "    PGM_stock_params = StocksPgmParams(arrays.sp_r,\n",
      "                                       arrays.stocks_r,\n",
      "                                       alpha=DefaultSettings.alpha)\n",
      "    PGM_stock_A = StocksPgmA(PGM_stock_params)\n",
      "    PGM_stock_B = StocksPgmB(PGM_stock_params)\n",
      "    PGM_stock_C = StocksPgmC(PGM_stock_params)\n",
      "    PGM_options_params = options_PGM_params(arrays.vix,\n",
      "                                            arrays.sigma,\n",
      "                                            alpha=DefaultSettings.alpha)\n",
      "    PGM_options_A = OptionsPgmA(PGM_options_params)\n",
      "    PGM_options_B = OptionsPgmB(PGM_options_params)\n",
      "    PGM_options_C = OptionsPgmC(PGM_options_params)\n",
      "    return SimpleNamespace(\n",
      "        PGM_stock_params=PGM_stock_params,\n",
      "        PGM_stock_A=PGM_stock_A,\n",
      "        PGM_stock_B=PGM_stock_B,\n",
      "        PGM_stock_C=PGM_stock_C,\n",
      "        PGM_options_params=PGM_options_params,\n",
      "        PGM_options_A=PGM_options_A,\n",
      "        PGM_options_B=PGM_options_B,\n",
      "        PGM_options_C=PGM_options_C,\n",
      "    )\n",
      "\n"
     ]
    }
   ],
   "source": [
    "#val_pgm is instead a function that estimates all the model\n",
    "#parameters from the data:\n",
    "view_code(eval_PGM)"
   ]
  },
  {
   "cell_type": "code",
   "execution_count": 12,
   "metadata": {},
   "outputs": [
    {
     "name": "stderr",
     "output_type": "stream",
     "text": [
      "/home/orazio/.virtualenvs/model_interconnectedness_36/lib/python3.6/site-packages/sklearn/covariance/graph_lasso_.py:230: RuntimeWarning: invalid value encountered in multiply\n",
      "  * coefs)\n",
      "/home/orazio/.virtualenvs/model_interconnectedness_36/lib/python3.6/site-packages/sklearn/covariance/graph_lasso_.py:232: RuntimeWarning: invalid value encountered in multiply\n",
      "  * coefs)\n",
      "/home/orazio/.virtualenvs/model_interconnectedness_36/lib/python3.6/site-packages/numpy/linalg/linalg.py:1741: RuntimeWarning: invalid value encountered in slogdet\n",
      "  sign, logdet = _umath_linalg.slogdet(a, signature=signature)\n",
      "/home/orazio/.virtualenvs/model_interconnectedness_36/lib/python3.6/site-packages/numpy/linalg/linalg.py:1741: RuntimeWarning: invalid value encountered in slogdet\n",
      "  sign, logdet = _umath_linalg.slogdet(a, signature=signature)\n"
     ]
    }
   ],
   "source": [
    "#let's evaluate them\n",
    "models = eval_PGM(arrays, DefaultSettings)"
   ]
  },
  {
   "cell_type": "code",
   "execution_count": 13,
   "metadata": {
    "ExecuteTime": {
     "end_time": "2017-09-05T16:24:26.600637Z",
     "start_time": "2017-09-05T16:20:22.690637Z"
    }
   },
   "outputs": [
    {
     "data": {
      "text/plain": [
       "(array([ 0.0134131 ,  0.01664561,  0.00855781,  0.0100695 ,  0.00787624,\n",
       "         0.01116747,  0.01093633,  0.01341751,  0.01261105,  0.01307771,\n",
       "         0.00984361,  0.0122559 ,  0.01881287,  0.00368643,  0.00399366,\n",
       "         0.01289216,  0.01084731,  0.00843793,  0.01002991,  0.01248531]),\n",
       " array([ 0.01303737,  0.04084867,  0.00164628,  0.02008065, -0.00414546,\n",
       "         0.01698921,  0.01993527,  0.01517178,  0.01017546,  0.01117527,\n",
       "         0.01872408,  0.00727516, -0.02223713,  0.00331236, -0.006212  ,\n",
       "        -0.0130239 ,  0.00181805,  0.01186242,  0.03578859,  0.03516007]),\n",
       " array([-0.00575096, -0.01140658, -0.041516  ,  0.02313669,  0.00550467,\n",
       "        -0.00213905, -0.00589475,  0.01292658,  0.00673286,  0.03681896,\n",
       "        -0.00927839, -0.01595387,  0.01520671,  0.00345395, -0.00961339,\n",
       "         0.02931361,  0.01351047,  0.00896937, -0.00119406,  0.02666732]))"
      ]
     },
     "execution_count": 13,
     "metadata": {},
     "output_type": "execute_result"
    }
   ],
   "source": [
    "#does it work?\n",
    "#prediction for stocks\n",
    "(models.PGM_stock_A.predict(.01)[:20],\n",
    " models.PGM_stock_B.predict(.01)[:20],\n",
    " models.PGM_stock_C.predict(.01)[:20])"
   ]
  },
  {
   "cell_type": "code",
   "execution_count": 19,
   "metadata": {
    "ExecuteTime": {
     "end_time": "2017-09-05T16:24:26.600637Z",
     "start_time": "2017-09-05T16:20:22.690637Z"
    }
   },
   "outputs": [
    {
     "data": {
      "text/plain": [
       "(array([  2.25637023,   4.21749353,   9.15615605,   5.25452619,\n",
       "          4.56891578,   1.84272017,   4.57236283,   5.06469782,\n",
       "          3.39962771,   2.96651475,   2.71164893,  19.9510826 ,\n",
       "          6.1874537 ,   1.63071977,   1.86491825,   0.77411904,\n",
       "          6.21560687,   1.71684084,  16.77283157,   2.64817515]),\n",
       " array([  2.50048853,   3.16116217,  13.42410234,   3.88597932,\n",
       "          0.13487924,   1.73301509,   3.34999359,   5.11234817,\n",
       "          1.94589061,   2.64342236,   1.96265213,   7.37813502,\n",
       "          6.09119396,   1.99908815,   3.3721076 ,   0.72012092,\n",
       "          4.27581201,   3.16350274,   2.84534272,   2.62853147]),\n",
       " array([  1.66912642,   6.44886533,   9.75660033,   4.27468483,\n",
       "          3.09478039,   1.80269938,   3.46930963,   5.03584118,\n",
       "          2.76676655,   4.16531723,   2.43365515,  24.31817609,\n",
       "         13.26333298,   0.89872765,   1.68125526,   0.96172057,\n",
       "          6.65184947,   1.44445721,  21.82793259,   4.83455257]))"
      ]
     },
     "execution_count": 19,
     "metadata": {},
     "output_type": "execute_result"
    }
   ],
   "source": [
    "#let's set an arbitrary level for vix\n",
    "vix_set = np.mean(arrays.vix)\n",
    "#prediction for options\n",
    "(\n",
    "models.PGM_options_A.predict(\n",
    "                vix=vix_set,\n",
    "                r=Const.RISK_FREE_RATE.value,\n",
    "                strike_price = None,\n",
    "                stocks_prices = arrays.stocks_p[-1],\n",
    "                tau_i = [1]*arrays.stocks_p.shape[-1],\n",
    "                flag_i = ['p']*arrays.stocks_p.shape[-1],\n",
    "                moneyness_i=1.1,\n",
    "                )[:20],\n",
    "models.PGM_options_B.predict(\n",
    "                vix=vix_set,\n",
    "                r=Const.RISK_FREE_RATE.value,\n",
    "                strike_price = None,\n",
    "                stocks_prices = arrays.stocks_p[-1],\n",
    "                tau_i = [1]*arrays.stocks_p.shape[-1],\n",
    "                flag_i = ['p']*arrays.stocks_p.shape[-1],\n",
    "                moneyness_i=1.1,\n",
    "                )[:20],\n",
    "models.PGM_options_C.predict(\n",
    "                vix=vix_set,\n",
    "                r=Const.RISK_FREE_RATE.value,\n",
    "                strike_price = None,\n",
    "                stocks_prices = arrays.stocks_p[-1],\n",
    "                tau_i = [1]*arrays.stocks_p.shape[-1],\n",
    "                flag_i = ['p']*arrays.stocks_p.shape[-1],\n",
    "                moneyness_i=1.1,\n",
    "                )[:20]\n",
    ")"
   ]
  },
  {
   "cell_type": "code",
   "execution_count": null,
   "metadata": {},
   "outputs": [],
   "source": []
  }
 ],
 "metadata": {
  "kernelspec": {
   "display_name": "Python 3",
   "language": "python",
   "name": "python3"
  },
  "language_info": {
   "codemirror_mode": {
    "name": "ipython",
    "version": 3
   },
   "file_extension": ".py",
   "mimetype": "text/x-python",
   "name": "python",
   "nbconvert_exporter": "python",
   "pygments_lexer": "ipython3",
   "version": "3.6.2"
  }
 },
 "nbformat": 4,
 "nbformat_minor": 2
}
